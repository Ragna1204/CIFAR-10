{
 "cells": [
  {
   "cell_type": "code",
   "execution_count": 1,
   "id": "30ae73c0",
   "metadata": {
    "execution": {
     "iopub.execute_input": "2025-06-01T04:43:36.948161Z",
     "iopub.status.busy": "2025-06-01T04:43:36.947429Z",
     "iopub.status.idle": "2025-06-01T04:43:48.264482Z",
     "shell.execute_reply": "2025-06-01T04:43:48.263866Z"
    },
    "papermill": {
     "duration": 11.321636,
     "end_time": "2025-06-01T04:43:48.265992",
     "exception": false,
     "start_time": "2025-06-01T04:43:36.944356",
     "status": "completed"
    },
    "tags": []
   },
   "outputs": [],
   "source": [
    "import numpy as np\n",
    "import pandas as pd\n",
    "import matplotlib.pyplot as plt\n",
    "\n",
    "import torch\n",
    "import torch.nn as nn\n",
    "import torch.nn.functional as F\n",
    "import torchvision\n",
    "from torchvision.transforms import v2\n",
    "from PIL import Image"
   ]
  },
  {
   "cell_type": "code",
   "execution_count": 2,
   "id": "f2c5fdde",
   "metadata": {
    "execution": {
     "iopub.execute_input": "2025-06-01T04:43:48.271116Z",
     "iopub.status.busy": "2025-06-01T04:43:48.270296Z",
     "iopub.status.idle": "2025-06-01T04:43:48.278557Z",
     "shell.execute_reply": "2025-06-01T04:43:48.277697Z"
    },
    "papermill": {
     "duration": 0.011593,
     "end_time": "2025-06-01T04:43:48.279667",
     "exception": false,
     "start_time": "2025-06-01T04:43:48.268074",
     "status": "completed"
    },
    "tags": []
   },
   "outputs": [
    {
     "name": "stdout",
     "output_type": "stream",
     "text": [
      "Using device: cpu\n"
     ]
    }
   ],
   "source": [
    "device = torch.device('cuda' if torch.cuda.is_available() else 'cpu')\n",
    "print(\"Using device:\", device)"
   ]
  },
  {
   "cell_type": "code",
   "execution_count": 3,
   "id": "24cd01b2",
   "metadata": {
    "execution": {
     "iopub.execute_input": "2025-06-01T04:43:48.283843Z",
     "iopub.status.busy": "2025-06-01T04:43:48.283600Z",
     "iopub.status.idle": "2025-06-01T04:43:55.774380Z",
     "shell.execute_reply": "2025-06-01T04:43:55.773747Z"
    },
    "papermill": {
     "duration": 7.494476,
     "end_time": "2025-06-01T04:43:55.775880",
     "exception": false,
     "start_time": "2025-06-01T04:43:48.281404",
     "status": "completed"
    },
    "tags": []
   },
   "outputs": [
    {
     "name": "stderr",
     "output_type": "stream",
     "text": [
      "100%|██████████| 170M/170M [00:02<00:00, 58.4MB/s]\n"
     ]
    }
   ],
   "source": [
    "mean=[0.485, 0.456, 0.406]\n",
    "std=[0.229, 0.224, 0.225]\n",
    "train_transform = v2.Compose([\n",
    "    v2.ToImage(), \n",
    "    v2.ToDtype(torch.float32, scale=True),  \n",
    "    v2.RandomHorizontalFlip(),\n",
    "    v2.RandomRotation(20),\n",
    "    v2.RandomCrop(32, padding=4),  \n",
    "    v2.Normalize(mean=mean,\n",
    "                 std=std)  \n",
    "])\n",
    "\n",
    "dev_transform = v2.Compose([\n",
    "    v2.ToImage(),\n",
    "    v2.ToDtype(torch.float32, scale=True),\n",
    "    v2.RandomHorizontalFlip(),\n",
    "    v2.RandomRotation(20),\n",
    "    v2.RandomCrop(32, padding=4),\n",
    "    v2.Normalize(mean=mean,\n",
    "                 std=std)  \n",
    "])\n",
    "\n",
    "test_transform = v2.Compose([\n",
    "    v2.ToImage(), \n",
    "    v2.ToDtype(torch.float32, scale=True),    \n",
    "    v2.Normalize(mean=mean,\n",
    "                 std=std)  \n",
    "])\n",
    "\n",
    "train_datasets = torchvision.datasets.CIFAR10(root='./data', train=True, download=True, transform=train_transform)\n",
    "dev_datasets = torchvision.datasets.CIFAR10(root='./data', train=False, download=True, transform=dev_transform)\n",
    "test_datasets = torchvision.datasets.CIFAR10(root='./data', train=False, download=True, transform=test_transform)\n",
    "train_loader = torch.utils.data.DataLoader(train_datasets, batch_size=256, shuffle=True)\n",
    "dev_loader = torch.utils.data.DataLoader(dev_datasets, batch_size=256, shuffle=True)\n",
    "test_loader = torch.utils.data.DataLoader(test_datasets, batch_size=256, shuffle=True)"
   ]
  },
  {
   "cell_type": "code",
   "execution_count": 4,
   "id": "89da9625",
   "metadata": {
    "execution": {
     "iopub.execute_input": "2025-06-01T04:43:55.783551Z",
     "iopub.status.busy": "2025-06-01T04:43:55.782942Z",
     "iopub.status.idle": "2025-06-01T04:43:55.789103Z",
     "shell.execute_reply": "2025-06-01T04:43:55.788402Z"
    },
    "papermill": {
     "duration": 0.011099,
     "end_time": "2025-06-01T04:43:55.790259",
     "exception": false,
     "start_time": "2025-06-01T04:43:55.779160",
     "status": "completed"
    },
    "tags": []
   },
   "outputs": [],
   "source": [
    "class CustomCNN(nn.Module):\n",
    "    def __init__(self):\n",
    "        super(CustomCNN, self).__init__()\n",
    "\n",
    "        self.features = nn.Sequential(\n",
    "            # Conv Block 1\n",
    "            nn.Conv2d(3, 64, kernel_size=3, padding=1),  # Output: 64x32x32\n",
    "            nn.BatchNorm2d(64),\n",
    "            nn.ReLU(),\n",
    "            nn.MaxPool2d(2),  # Output: 64x16x16\n",
    "\n",
    "            # Conv Block 2\n",
    "            nn.Conv2d(64, 128, kernel_size=3, padding=1),  # Output: 128x16x16\n",
    "            nn.BatchNorm2d(128),\n",
    "            nn.ReLU(),\n",
    "            nn.MaxPool2d(2),  # Output: 128x8x8\n",
    "\n",
    "            # Conv Block 3\n",
    "            nn.Conv2d(128, 256, kernel_size=3, padding=1),  # Output: 256x8x8\n",
    "            nn.BatchNorm2d(256),\n",
    "            nn.ReLU(),\n",
    "            nn.MaxPool2d(2),  # Output: 256x4x4\n",
    "\n",
    "            nn.Dropout(0.25)\n",
    "        )\n",
    "\n",
    "        self.classifier = nn.Sequential(\n",
    "            nn.Linear(256 * 4 * 4, 512),\n",
    "            nn.ReLU(),\n",
    "            nn.Dropout(0.5),\n",
    "            nn.Linear(512, 10)\n",
    "        )\n",
    "\n",
    "    def forward(self, x):\n",
    "        x = self.features(x)\n",
    "        x = x.view(x.size(0), -1)  # Flatten\n",
    "        x = self.classifier(x)\n",
    "        return x"
   ]
  },
  {
   "cell_type": "code",
   "execution_count": 5,
   "id": "fed4e623",
   "metadata": {
    "execution": {
     "iopub.execute_input": "2025-06-01T04:43:55.797437Z",
     "iopub.status.busy": "2025-06-01T04:43:55.797224Z",
     "iopub.status.idle": "2025-06-01T04:43:55.824081Z",
     "shell.execute_reply": "2025-06-01T04:43:55.823479Z"
    },
    "papermill": {
     "duration": 0.032187,
     "end_time": "2025-06-01T04:43:55.825499",
     "exception": false,
     "start_time": "2025-06-01T04:43:55.793312",
     "status": "completed"
    },
    "tags": []
   },
   "outputs": [],
   "source": [
    "model = CustomCNN().to(device)\n",
    "\n",
    "criterion = nn.CrossEntropyLoss()\n",
    "optimizer = torch.optim.Adam(model.parameters(), lr=0.001)"
   ]
  },
  {
   "cell_type": "code",
   "execution_count": null,
   "id": "3f84afbc",
   "metadata": {
    "papermill": {
     "duration": 0.002616,
     "end_time": "2025-06-01T04:43:55.831217",
     "exception": false,
     "start_time": "2025-06-01T04:43:55.828601",
     "status": "completed"
    },
    "tags": []
   },
   "outputs": [],
   "source": []
  }
 ],
 "metadata": {
  "kaggle": {
   "accelerator": "none",
   "dataSources": [
    {
     "databundleVersionId": 46718,
     "sourceId": 3649,
     "sourceType": "competition"
    }
   ],
   "dockerImageVersionId": 31040,
   "isGpuEnabled": false,
   "isInternetEnabled": true,
   "language": "python",
   "sourceType": "notebook"
  },
  "kernelspec": {
   "display_name": "Python 3",
   "language": "python",
   "name": "python3"
  },
  "language_info": {
   "codemirror_mode": {
    "name": "ipython",
    "version": 3
   },
   "file_extension": ".py",
   "mimetype": "text/x-python",
   "name": "python",
   "nbconvert_exporter": "python",
   "pygments_lexer": "ipython3",
   "version": "3.11.11"
  },
  "papermill": {
   "default_parameters": {},
   "duration": 25.972018,
   "end_time": "2025-06-01T04:43:58.881795",
   "environment_variables": {},
   "exception": null,
   "input_path": "__notebook__.ipynb",
   "output_path": "__notebook__.ipynb",
   "parameters": {},
   "start_time": "2025-06-01T04:43:32.909777",
   "version": "2.6.0"
  }
 },
 "nbformat": 4,
 "nbformat_minor": 5
}
