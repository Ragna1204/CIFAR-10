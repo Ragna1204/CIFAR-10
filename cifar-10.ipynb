{
 "cells": [
  {
   "cell_type": "code",
   "execution_count": 1,
   "id": "3e8c5902",
   "metadata": {
    "execution": {
     "iopub.execute_input": "2025-06-01T06:08:03.179835Z",
     "iopub.status.busy": "2025-06-01T06:08:03.179366Z",
     "iopub.status.idle": "2025-06-01T06:08:19.356483Z",
     "shell.execute_reply": "2025-06-01T06:08:19.355508Z"
    },
    "papermill": {
     "duration": 16.183509,
     "end_time": "2025-06-01T06:08:19.358311",
     "exception": false,
     "start_time": "2025-06-01T06:08:03.174802",
     "status": "completed"
    },
    "tags": []
   },
   "outputs": [],
   "source": [
    "import numpy as np\n",
    "import pandas as pd\n",
    "import matplotlib.pyplot as plt\n",
    "\n",
    "import torch\n",
    "import torch.nn as nn\n",
    "import torch.nn.functional as F\n",
    "import torchvision\n",
    "from torchvision.transforms import v2\n",
    "from PIL import Image"
   ]
  },
  {
   "cell_type": "code",
   "execution_count": 2,
   "id": "dfb44c58",
   "metadata": {
    "execution": {
     "iopub.execute_input": "2025-06-01T06:08:19.365325Z",
     "iopub.status.busy": "2025-06-01T06:08:19.364871Z",
     "iopub.status.idle": "2025-06-01T06:08:19.373871Z",
     "shell.execute_reply": "2025-06-01T06:08:19.372322Z"
    },
    "papermill": {
     "duration": 0.014483,
     "end_time": "2025-06-01T06:08:19.375918",
     "exception": false,
     "start_time": "2025-06-01T06:08:19.361435",
     "status": "completed"
    },
    "tags": []
   },
   "outputs": [
    {
     "name": "stdout",
     "output_type": "stream",
     "text": [
      "Using device: cpu\n"
     ]
    }
   ],
   "source": [
    "device = torch.device('cuda' if torch.cuda.is_available() else 'cpu')\n",
    "print(\"Using device:\", device)"
   ]
  },
  {
   "cell_type": "code",
   "execution_count": 3,
   "id": "0ef0bf25",
   "metadata": {
    "execution": {
     "iopub.execute_input": "2025-06-01T06:08:19.383270Z",
     "iopub.status.busy": "2025-06-01T06:08:19.382922Z",
     "iopub.status.idle": "2025-06-01T06:08:26.559249Z",
     "shell.execute_reply": "2025-06-01T06:08:26.557935Z"
    },
    "papermill": {
     "duration": 7.18327,
     "end_time": "2025-06-01T06:08:26.562210",
     "exception": false,
     "start_time": "2025-06-01T06:08:19.378940",
     "status": "completed"
    },
    "tags": []
   },
   "outputs": [
    {
     "name": "stderr",
     "output_type": "stream",
     "text": [
      "100%|██████████| 170M/170M [00:02<00:00, 78.5MB/s]\n"
     ]
    }
   ],
   "source": [
    "mean=[0.485, 0.456, 0.406]\n",
    "std=[0.229, 0.224, 0.225]\n",
    "train_transform = v2.Compose([\n",
    "    v2.ToImage(), \n",
    "    v2.ToDtype(torch.float32, scale=True),  \n",
    "    v2.RandomHorizontalFlip(),\n",
    "    v2.RandomRotation(20),\n",
    "    v2.RandomCrop(32, padding=4),  \n",
    "    v2.Normalize(mean=mean,\n",
    "                 std=std)  \n",
    "])\n",
    "\n",
    "dev_transform = v2.Compose([\n",
    "    v2.ToImage(),\n",
    "    v2.ToDtype(torch.float32, scale=True),\n",
    "    v2.RandomHorizontalFlip(),\n",
    "    v2.RandomRotation(20),\n",
    "    v2.RandomCrop(32, padding=4),\n",
    "    v2.Normalize(mean=mean,\n",
    "                 std=std)  \n",
    "])\n",
    "\n",
    "test_transform = v2.Compose([\n",
    "    v2.ToImage(), \n",
    "    v2.ToDtype(torch.float32, scale=True),    \n",
    "    v2.Normalize(mean=mean,\n",
    "                 std=std)  \n",
    "])\n",
    "\n",
    "train_datasets = torchvision.datasets.CIFAR10(root='./data', train=True, download=True, transform=train_transform)\n",
    "dev_datasets = torchvision.datasets.CIFAR10(root='./data', train=False, download=True, transform=dev_transform)\n",
    "test_datasets = torchvision.datasets.CIFAR10(root='./data', train=False, download=True, transform=test_transform)\n",
    "train_loader = torch.utils.data.DataLoader(train_datasets, batch_size=256, shuffle=True)\n",
    "dev_loader = torch.utils.data.DataLoader(dev_datasets, batch_size=256, shuffle=True)\n",
    "test_loader = torch.utils.data.DataLoader(test_datasets, batch_size=256, shuffle=True)"
   ]
  },
  {
   "cell_type": "code",
   "execution_count": 4,
   "id": "506bbce2",
   "metadata": {
    "execution": {
     "iopub.execute_input": "2025-06-01T06:08:26.576259Z",
     "iopub.status.busy": "2025-06-01T06:08:26.575826Z",
     "iopub.status.idle": "2025-06-01T06:08:26.585957Z",
     "shell.execute_reply": "2025-06-01T06:08:26.584611Z"
    },
    "papermill": {
     "duration": 0.020359,
     "end_time": "2025-06-01T06:08:26.588648",
     "exception": false,
     "start_time": "2025-06-01T06:08:26.568289",
     "status": "completed"
    },
    "tags": []
   },
   "outputs": [],
   "source": [
    "class CustomCNN(nn.Module):\n",
    "    def __init__(self):\n",
    "        super(CustomCNN, self).__init__()\n",
    "\n",
    "        self.features = nn.Sequential(\n",
    "            # Conv Block 1\n",
    "            nn.Conv2d(3, 64, kernel_size=3, padding=1),  # Output: 64x32x32\n",
    "            nn.BatchNorm2d(64),\n",
    "            nn.ReLU(),\n",
    "            nn.MaxPool2d(2),  # Output: 64x16x16\n",
    "\n",
    "            # Conv Block 2\n",
    "            nn.Conv2d(64, 128, kernel_size=3, padding=1),  # Output: 128x16x16\n",
    "            nn.BatchNorm2d(128),\n",
    "            nn.ReLU(),\n",
    "            nn.MaxPool2d(2),  # Output: 128x8x8\n",
    "\n",
    "            # Conv Block 3\n",
    "            nn.Conv2d(128, 256, kernel_size=3, padding=1),  # Output: 256x8x8\n",
    "            nn.BatchNorm2d(256),\n",
    "            nn.ReLU(),\n",
    "            nn.MaxPool2d(2),  # Output: 256x4x4\n",
    "\n",
    "            nn.Dropout(0.25)\n",
    "        )\n",
    "\n",
    "        self.classifier = nn.Sequential(\n",
    "            nn.Linear(256 * 4 * 4, 512),\n",
    "            nn.ReLU(),\n",
    "            nn.Dropout(0.5),\n",
    "            nn.Linear(512, 10)\n",
    "        )\n",
    "\n",
    "    def forward(self, x):\n",
    "        x = self.features(x)\n",
    "        x = x.view(x.size(0), -1)  # Flatten\n",
    "        x = self.classifier(x)\n",
    "        return x"
   ]
  },
  {
   "cell_type": "code",
   "execution_count": 5,
   "id": "dc4af22c",
   "metadata": {
    "execution": {
     "iopub.execute_input": "2025-06-01T06:08:26.601239Z",
     "iopub.status.busy": "2025-06-01T06:08:26.600130Z",
     "iopub.status.idle": "2025-06-01T06:08:26.638313Z",
     "shell.execute_reply": "2025-06-01T06:08:26.637386Z"
    },
    "papermill": {
     "duration": 0.046622,
     "end_time": "2025-06-01T06:08:26.640202",
     "exception": false,
     "start_time": "2025-06-01T06:08:26.593580",
     "status": "completed"
    },
    "tags": []
   },
   "outputs": [],
   "source": [
    "model = CustomCNN().to(device)\n",
    "\n",
    "criterion = nn.CrossEntropyLoss()\n",
    "optimizer = torch.optim.Adam(model.parameters(), lr=0.001)"
   ]
  },
  {
   "cell_type": "code",
   "execution_count": 6,
   "id": "496e06db",
   "metadata": {
    "execution": {
     "iopub.execute_input": "2025-06-01T06:08:26.649291Z",
     "iopub.status.busy": "2025-06-01T06:08:26.648921Z",
     "iopub.status.idle": "2025-06-01T07:00:30.420043Z",
     "shell.execute_reply": "2025-06-01T07:00:30.419007Z"
    },
    "papermill": {
     "duration": 3123.782293,
     "end_time": "2025-06-01T07:00:30.426265",
     "exception": false,
     "start_time": "2025-06-01T06:08:26.643972",
     "status": "completed"
    },
    "tags": []
   },
   "outputs": [
    {
     "name": "stdout",
     "output_type": "stream",
     "text": [
      "Epoch [1/10], Loss: 1.8343, Accuracy: 33.32%\n",
      "Epoch [2/10], Loss: 1.4887, Accuracy: 45.04%\n",
      "Epoch [3/10], Loss: 1.3559, Accuracy: 50.31%\n",
      "Epoch [4/10], Loss: 1.2715, Accuracy: 53.85%\n",
      "Epoch [5/10], Loss: 1.2018, Accuracy: 56.63%\n",
      "Epoch [6/10], Loss: 1.1467, Accuracy: 58.86%\n",
      "Epoch [7/10], Loss: 1.1173, Accuracy: 60.18%\n",
      "Epoch [8/10], Loss: 1.0832, Accuracy: 61.89%\n",
      "Epoch [9/10], Loss: 1.0414, Accuracy: 63.12%\n",
      "Epoch [10/10], Loss: 1.0302, Accuracy: 63.51%\n"
     ]
    }
   ],
   "source": [
    "num_epochs = 10\n",
    "train_loss_list = []\n",
    "train_acc_list = []\n",
    "\n",
    "for epoch in range(num_epochs):\n",
    "    model.train()\n",
    "    running_loss = 0.0\n",
    "    correct = 0\n",
    "    total = 0\n",
    "\n",
    "    for images, labels in train_loader:\n",
    "        images, labels = images.to(device), labels.to(device)\n",
    "\n",
    "        # Forward pass\n",
    "        outputs = model(images)\n",
    "        loss = criterion(outputs, labels)\n",
    "\n",
    "        # Backpropagation and optimization\n",
    "        optimizer.zero_grad()\n",
    "        loss.backward()\n",
    "        optimizer.step()\n",
    "\n",
    "        running_loss += loss.item()\n",
    "        _, predicted = torch.max(outputs.data, 1)\n",
    "        total += labels.size(0)\n",
    "        correct += (predicted == labels).sum().item()\n",
    "    \n",
    "    train_loss = running_loss / len(train_loader)\n",
    "    train_accuracy = 100 * correct / total\n",
    "    train_loss_list.append(train_loss)\n",
    "    train_acc_list.append(train_accuracy)\n",
    "\n",
    "    print(f\"Epoch [{epoch+1}/{num_epochs}], Loss: {train_loss:.4f}, Accuracy: {train_accuracy:.2f}%\")"
   ]
  },
  {
   "cell_type": "code",
   "execution_count": 7,
   "id": "30052381",
   "metadata": {
    "execution": {
     "iopub.execute_input": "2025-06-01T07:00:30.521424Z",
     "iopub.status.busy": "2025-06-01T07:00:30.520642Z",
     "iopub.status.idle": "2025-06-01T07:00:30.810008Z",
     "shell.execute_reply": "2025-06-01T07:00:30.808813Z"
    },
    "papermill": {
     "duration": 0.296605,
     "end_time": "2025-06-01T07:00:30.811906",
     "exception": false,
     "start_time": "2025-06-01T07:00:30.515301",
     "status": "completed"
    },
    "tags": []
   },
   "outputs": [
    {
     "data": {
      "image/png": "[encoded data removed]",
      "text/plain": [
       "<Figure size 640x480 with 1 Axes>"
      ]
     },
     "metadata": {},
     "output_type": "display_data"
    }
   ],
   "source": [
    "plt.plot(train_loss_list, label='Loss')\n",
    "plt.plot(train_acc_list, label='Accuracy')\n",
    "plt.xlabel(\"Epoch\")\n",
    "plt.legend()\n",
    "plt.title(\"Training Performance\")\n",
    "plt.show()"
   ]
  },
  {
   "cell_type": "code",
   "execution_count": 8,
   "id": "cfe9f21a",
   "metadata": {
    "execution": {
     "iopub.execute_input": "2025-06-01T07:00:30.823045Z",
     "iopub.status.busy": "2025-06-01T07:00:30.822695Z",
     "iopub.status.idle": "2025-06-01T07:00:56.225111Z",
     "shell.execute_reply": "2025-06-01T07:00:56.223842Z"
    },
    "papermill": {
     "duration": 25.411007,
     "end_time": "2025-06-01T07:00:56.227812",
     "exception": false,
     "start_time": "2025-06-01T07:00:30.816805",
     "status": "completed"
    },
    "tags": []
   },
   "outputs": [
    {
     "name": "stdout",
     "output_type": "stream",
     "text": [
      "Test Accuracy: 70.92%\n"
     ]
    }
   ],
   "source": [
    "model.eval()  # Set model to evaluation mode\n",
    "correct = 0\n",
    "total = 0\n",
    "\n",
    "with torch.no_grad():  # Disable gradient calculation for inference\n",
    "    for images, labels in test_loader:\n",
    "        images, labels = images.to(device), labels.to(device)\n",
    "        outputs = model(images)\n",
    "        _, predicted = torch.max(outputs.data, 1)\n",
    "        total += labels.size(0)\n",
    "        correct += (predicted == labels).sum().item()\n",
    "\n",
    "test_accuracy = 100 * correct / total\n",
    "print(f\"Test Accuracy: {test_accuracy:.2f}%\")"
   ]
  },
  {
   "cell_type": "code",
   "execution_count": 9,
   "id": "42d93ebc",
   "metadata": {
    "execution": {
     "iopub.execute_input": "2025-06-01T07:00:56.242400Z",
     "iopub.status.busy": "2025-06-01T07:00:56.242043Z",
     "iopub.status.idle": "2025-06-01T07:01:22.097032Z",
     "shell.execute_reply": "2025-06-01T07:01:22.095597Z"
    },
    "papermill": {
     "duration": 25.863759,
     "end_time": "2025-06-01T07:01:22.099451",
     "exception": false,
     "start_time": "2025-06-01T07:00:56.235692",
     "status": "completed"
    },
    "tags": []
   },
   "outputs": [
    {
     "name": "stdout",
     "output_type": "stream",
     "text": [
      "\n",
      "Class-wise Accuracy:\n",
      "airplane: 74.80%\n",
      "automobile: 86.00%\n",
      "bird: 50.00%\n",
      "cat: 47.50%\n",
      "deer: 57.90%\n",
      "dog: 74.60%\n",
      "frog: 76.10%\n",
      "horse: 71.40%\n",
      "ship: 81.30%\n",
      "truck: 89.60%\n"
     ]
    }
   ],
   "source": [
    "classes = train_datasets.classes\n",
    "class_correct = [0 for _ in range(10)]\n",
    "class_total = [0 for _ in range(10)]\n",
    "\n",
    "with torch.no_grad():\n",
    "    for images, labels in test_loader:\n",
    "        images, labels = images.to(device), labels.to(device)\n",
    "        outputs = model(images)\n",
    "        _, predicted = torch.max(outputs, 1)\n",
    "        c = (predicted == labels).squeeze()\n",
    "        for i in range(len(labels)):\n",
    "            label = labels[i]\n",
    "            class_correct[label] += c[i].item()\n",
    "            class_total[label] += 1\n",
    "\n",
    "print(\"\\nClass-wise Accuracy:\")\n",
    "for i in range(10):\n",
    "    accuracy = 100 * class_correct[i] / class_total[i]\n",
    "    print(f\"{classes[i]}: {accuracy:.2f}%\")"
   ]
  }
 ],
 "metadata": {
  "kaggle": {
   "accelerator": "none",
   "dataSources": [
    {
     "databundleVersionId": 46718,
     "sourceId": 3649,
     "sourceType": "competition"
    }
   ],
   "dockerImageVersionId": 31040,
   "isGpuEnabled": false,
   "isInternetEnabled": true,
   "language": "python",
   "sourceType": "notebook"
  },
  "kernelspec": {
   "display_name": "Python 3",
   "language": "python",
   "name": "python3"
  },
  "language_info": {
   "codemirror_mode": {
    "name": "ipython",
    "version": 3
   },
   "file_extension": ".py",
   "mimetype": "text/x-python",
   "name": "python",
   "nbconvert_exporter": "python",
   "pygments_lexer": "ipython3",
   "version": "3.11.11"
  },
  "papermill": {
   "default_parameters": {},
   "duration": 3208.684421,
   "end_time": "2025-06-01T07:01:24.794869",
   "environment_variables": {},
   "exception": null,
   "input_path": "__notebook__.ipynb",
   "output_path": "__notebook__.ipynb",
   "parameters": {},
   "start_time": "2025-06-01T06:07:56.110448",
   "version": "2.6.0"
  }
 },
 "nbformat": 4,
 "nbformat_minor": 5
}
