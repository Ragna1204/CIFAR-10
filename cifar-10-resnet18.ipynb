{
 "cells": [
  {
   "cell_type": "code",
   "execution_count": 1,
   "id": "bd08d506",
   "metadata": {
    "execution": {
     "iopub.execute_input": "2025-06-02T12:43:20.833423Z",
     "iopub.status.busy": "2025-06-02T12:43:20.833194Z",
     "iopub.status.idle": "2025-06-02T12:43:30.800101Z",
     "shell.execute_reply": "2025-06-02T12:43:30.799480Z"
    },
    "papermill": {
     "duration": 9.970922,
     "end_time": "2025-06-02T12:43:30.801517",
     "exception": false,
     "start_time": "2025-06-02T12:43:20.830595",
     "status": "completed"
    },
    "tags": []
   },
   "outputs": [],
   "source": [
    "import numpy as np\n",
    "import pandas as pd\n",
    "import matplotlib.pyplot as plt\n",
    "\n",
    "import torch\n",
    "import torch.nn as nn\n",
    "import torch.optim as optim\n",
    "from torchvision import datasets, transforms, models\n",
    "from torch.utils.data import DataLoader\n",
    "import random"
   ]
  },
  {
   "cell_type": "code",
   "execution_count": 2,
   "id": "96c5fa2d",
   "metadata": {
    "execution": {
     "iopub.execute_input": "2025-06-02T12:43:30.805877Z",
     "iopub.status.busy": "2025-06-02T12:43:30.805565Z",
     "iopub.status.idle": "2025-06-02T12:43:30.881702Z",
     "shell.execute_reply": "2025-06-02T12:43:30.880919Z"
    },
    "papermill": {
     "duration": 0.079236,
     "end_time": "2025-06-02T12:43:30.882758",
     "exception": false,
     "start_time": "2025-06-02T12:43:30.803522",
     "status": "completed"
    },
    "tags": []
   },
   "outputs": [
    {
     "name": "stdout",
     "output_type": "stream",
     "text": [
      "Using device: cuda\n"
     ]
    }
   ],
   "source": [
    "device = torch.device('cuda' if torch.cuda.is_available() else 'cpu')\n",
    "print(\"Using device:\", device)"
   ]
  },
  {
   "cell_type": "code",
   "execution_count": 3,
   "id": "d567826d",
   "metadata": {
    "execution": {
     "iopub.execute_input": "2025-06-02T12:43:30.887105Z",
     "iopub.status.busy": "2025-06-02T12:43:30.886863Z",
     "iopub.status.idle": "2025-06-02T12:43:37.641963Z",
     "shell.execute_reply": "2025-06-02T12:43:37.641404Z"
    },
    "papermill": {
     "duration": 6.75869,
     "end_time": "2025-06-02T12:43:37.643255",
     "exception": false,
     "start_time": "2025-06-02T12:43:30.884565",
     "status": "completed"
    },
    "tags": []
   },
   "outputs": [
    {
     "name": "stderr",
     "output_type": "stream",
     "text": [
      "100%|██████████| 170M/170M [00:03<00:00, 48.6MB/s]\n"
     ]
    }
   ],
   "source": [
    "mean = [0.485, 0.456, 0.406]\n",
    "std = [0.229, 0.224, 0.225]\n",
    "\n",
    "train_transform = transforms.Compose([\n",
    "    transforms.RandomHorizontalFlip(),\n",
    "    transforms.RandomRotation(20),\n",
    "    transforms.RandomCrop(32, padding=4),\n",
    "    transforms.ToTensor(),\n",
    "    transforms.Normalize(mean, std)\n",
    "])\n",
    "\n",
    "test_transform = transforms.Compose([\n",
    "    transforms.ToTensor(),\n",
    "    transforms.Normalize(mean, std)\n",
    "])\n",
    "\n",
    "# ✅ CIFAR-10 Dataset (change `root` if needed for Kaggle)\n",
    "train_datasets = datasets.CIFAR10(root='./data', train=True, download=True, transform=train_transform)\n",
    "test_datasets = datasets.CIFAR10(root='./data', train=False, download=True, transform=test_transform)\n",
    "\n",
    "train_loader = DataLoader(train_datasets, batch_size=256, shuffle=True)\n",
    "test_loader = DataLoader(test_datasets, batch_size=256, shuffle=False)"
   ]
  },
  {
   "cell_type": "code",
   "execution_count": 4,
   "id": "4ba3808e",
   "metadata": {
    "execution": {
     "iopub.execute_input": "2025-06-02T12:43:37.650510Z",
     "iopub.status.busy": "2025-06-02T12:43:37.650289Z",
     "iopub.status.idle": "2025-06-02T12:43:37.984986Z",
     "shell.execute_reply": "2025-06-02T12:43:37.984402Z"
    },
    "papermill": {
     "duration": 0.339474,
     "end_time": "2025-06-02T12:43:37.986266",
     "exception": false,
     "start_time": "2025-06-02T12:43:37.646792",
     "status": "completed"
    },
    "tags": []
   },
   "outputs": [],
   "source": [
    "def get_resnet18_model():\n",
    "    model = models.resnet18(weights=None)  # Not using pretrained for CIFAR-10\n",
    "    model.conv1 = nn.Conv2d(3, 64, kernel_size=3, stride=1, padding=1, bias=False)\n",
    "    model.maxpool = nn.Identity()  # Remove the aggressive downsampling\n",
    "    model.fc = nn.Linear(model.fc.in_features, 10)  # CIFAR-10 has 10 classes\n",
    "    return model.to(device)\n",
    "\n",
    "model = get_resnet18_model()"
   ]
  },
  {
   "cell_type": "code",
   "execution_count": 5,
   "id": "3e96b2e7",
   "metadata": {
    "execution": {
     "iopub.execute_input": "2025-06-02T12:43:37.993398Z",
     "iopub.status.busy": "2025-06-02T12:43:37.993157Z",
     "iopub.status.idle": "2025-06-02T12:43:37.996772Z",
     "shell.execute_reply": "2025-06-02T12:43:37.996265Z"
    },
    "papermill": {
     "duration": 0.008336,
     "end_time": "2025-06-02T12:43:37.997797",
     "exception": false,
     "start_time": "2025-06-02T12:43:37.989461",
     "status": "completed"
    },
    "tags": []
   },
   "outputs": [],
   "source": [
    "criterion = nn.CrossEntropyLoss()\n",
    "optimizer = optim.Adam(model.parameters(), lr=0.001)"
   ]
  },
  {
   "cell_type": "code",
   "execution_count": 6,
   "id": "2e89e630",
   "metadata": {
    "execution": {
     "iopub.execute_input": "2025-06-02T12:43:38.004941Z",
     "iopub.status.busy": "2025-06-02T12:43:38.004315Z",
     "iopub.status.idle": "2025-06-02T12:53:38.619602Z",
     "shell.execute_reply": "2025-06-02T12:53:38.618829Z"
    },
    "papermill": {
     "duration": 600.622843,
     "end_time": "2025-06-02T12:53:38.623672",
     "exception": false,
     "start_time": "2025-06-02T12:43:38.000829",
     "status": "completed"
    },
    "tags": []
   },
   "outputs": [
    {
     "name": "stdout",
     "output_type": "stream",
     "text": [
      "Epoch [1/10], Loss: 1.4391, Accuracy: 47.23%\n",
      "Epoch [2/10], Loss: 1.0324, Accuracy: 63.08%\n",
      "Epoch [3/10], Loss: 0.8551, Accuracy: 69.61%\n",
      "Epoch [4/10], Loss: 0.7330, Accuracy: 74.21%\n",
      "Epoch [5/10], Loss: 0.6409, Accuracy: 77.61%\n",
      "Epoch [6/10], Loss: 0.5845, Accuracy: 79.65%\n",
      "Epoch [7/10], Loss: 0.5367, Accuracy: 81.20%\n",
      "Epoch [8/10], Loss: 0.5035, Accuracy: 82.34%\n",
      "Epoch [9/10], Loss: 0.4713, Accuracy: 83.50%\n",
      "Epoch [10/10], Loss: 0.4458, Accuracy: 84.53%\n"
     ]
    }
   ],
   "source": [
    "num_epochs = 10\n",
    "for epoch in range(num_epochs):\n",
    "    model.train()\n",
    "    running_loss = 0\n",
    "    correct = 0\n",
    "    total = 0\n",
    "\n",
    "    for images, labels in train_loader:\n",
    "        images, labels = images.to(device), labels.to(device)\n",
    "\n",
    "        optimizer.zero_grad()\n",
    "        outputs = model(images)\n",
    "        loss = criterion(outputs, labels)\n",
    "        loss.backward()\n",
    "        optimizer.step()\n",
    "\n",
    "        running_loss += loss.item()\n",
    "        _, predicted = torch.max(outputs, 1)\n",
    "        correct += (predicted == labels).sum().item()\n",
    "        total += labels.size(0)\n",
    "\n",
    "    accuracy = 100 * correct / total\n",
    "    print(f\"Epoch [{epoch+1}/{num_epochs}], Loss: {running_loss/len(train_loader):.4f}, Accuracy: {accuracy:.2f}%\")\n"
   ]
  },
  {
   "cell_type": "code",
   "execution_count": 7,
   "id": "1c4866a3",
   "metadata": {
    "execution": {
     "iopub.execute_input": "2025-06-02T12:53:38.631889Z",
     "iopub.status.busy": "2025-06-02T12:53:38.631665Z",
     "iopub.status.idle": "2025-06-02T12:53:38.637060Z",
     "shell.execute_reply": "2025-06-02T12:53:38.636409Z"
    },
    "papermill": {
     "duration": 0.010256,
     "end_time": "2025-06-02T12:53:38.638025",
     "exception": false,
     "start_time": "2025-06-02T12:53:38.627769",
     "status": "completed"
    },
    "tags": []
   },
   "outputs": [],
   "source": [
    "def predict_from_index(index):\n",
    "    image, label = test_datasets[index]\n",
    "    image_input = image.unsqueeze(0).to(device)\n",
    "\n",
    "    model.eval()\n",
    "    with torch.no_grad():\n",
    "        output = model(image_input)\n",
    "        _, predicted = torch.max(output, 1)\n",
    "\n",
    "    classes = train_datasets.classes\n",
    "    predicted_class = classes[predicted.item()]\n",
    "    true_class = classes[label]\n",
    "\n",
    "    # Denormalize for visualization\n",
    "    inv_normalize = transforms.Normalize(\n",
    "        mean=[-m/s for m, s in zip(mean, std)],\n",
    "        std=[1/s for s in std]\n",
    "    )\n",
    "    image_show = inv_normalize(image).permute(1, 2, 0).cpu().numpy()\n",
    "    image_show = np.clip(image_show, 0, 1)  # Avoid values outside [0, 1]\n",
    "\n",
    "    plt.imshow(image_show)\n",
    "    plt.title(f\"Predicted: {predicted_class} | Actual: {true_class}\")\n",
    "    plt.axis(\"off\")\n",
    "    plt.show()"
   ]
  }
 ],
 "metadata": {
  "kaggle": {
   "accelerator": "nvidiaTeslaT4",
   "dataSources": [
    {
     "databundleVersionId": 46718,
     "sourceId": 3649,
     "sourceType": "competition"
    }
   ],
   "dockerImageVersionId": 31040,
   "isGpuEnabled": true,
   "isInternetEnabled": true,
   "language": "python",
   "sourceType": "notebook"
  },
  "kernelspec": {
   "display_name": "Python 3",
   "language": "python",
   "name": "python3"
  },
  "language_info": {
   "codemirror_mode": {
    "name": "ipython",
    "version": 3
   },
   "file_extension": ".py",
   "mimetype": "text/x-python",
   "name": "python",
   "nbconvert_exporter": "python",
   "pygments_lexer": "ipython3",
   "version": "3.11.11"
  },
  "papermill": {
   "default_parameters": {},
   "duration": 624.41181,
   "end_time": "2025-06-02T12:53:41.198716",
   "environment_variables": {},
   "exception": null,
   "input_path": "__notebook__.ipynb",
   "output_path": "__notebook__.ipynb",
   "parameters": {},
   "start_time": "2025-06-02T12:43:16.786906",
   "version": "2.6.0"
  }
 },
 "nbformat": 4,
 "nbformat_minor": 5
}
